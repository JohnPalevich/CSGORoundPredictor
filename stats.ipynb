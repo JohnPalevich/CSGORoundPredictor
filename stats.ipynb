{
 "cells": [
  {
   "cell_type": "code",
   "execution_count": 35,
   "metadata": {},
   "outputs": [],
   "source": [
    "from collections import defaultdict\n",
    "import pandas as pd\n",
    "import os\n",
    "import matplotlib.pyplot as plt\n",
    "import pickle\n"
   ]
  },
  {
   "cell_type": "code",
   "execution_count": 36,
   "metadata": {},
   "outputs": [],
   "source": [
    "mapDist = defaultdict(int)\n",
    "datapointsPerMap = defaultdict(int)\n",
    "maps = 0\n",
    "for map in os.listdir(os.getcwd()+'/data'):\n",
    "    if os.path.isdir(os.getcwd()+'/data/'+map):\n",
    "        for csv in os.listdir(os.getcwd()+'/data/'+map):\n",
    "            mapDist[map] +=1\n",
    "            df = pd.read_csv(os.getcwd()+'/data/'+map+'/'+csv)\n",
    "            datapointsPerMap[map] += df.shape[0]\n",
    "            maps += 1\n",
    "            "
   ]
  },
  {
   "cell_type": "code",
   "execution_count": 37,
   "metadata": {},
   "outputs": [
    {
     "name": "stdout",
     "output_type": "stream",
     "text": [
      "Basic Information\n",
      "344 matches pulled from 11 tournaments.\n",
      "692 maps pulled from 344 matches.\n",
      "138996 data points pulled from 692 maps.\n"
     ]
    }
   ],
   "source": [
    "print(\"Basic Information\")\n",
    "with open('matches_seen.pkl', 'rb') as f:\n",
    "    links_seen = pickle.load(f)\n",
    "with open('tournaments_seen.pkl', 'rb') as f:\n",
    "    tournaments_seen = pickle.load(f)\n",
    "print(len(links_seen), \"matches pulled from\", len(tournaments_seen), \"tournaments.\")\n",
    "print(maps, \"maps pulled from\", len(links_seen), \"matches.\")\n",
    "print(sum(datapointsPerMap.values()), \"data points pulled from\", maps, \"maps.\")"
   ]
  },
  {
   "cell_type": "code",
   "execution_count": 38,
   "metadata": {},
   "outputs": [
    {
     "name": "stdout",
     "output_type": "stream",
     "text": [
      "Map Distribution\n"
     ]
    },
    {
     "data": {
      "image/png": "[encoded data removed]",
      "text/plain": [
       "<Figure size 432x288 with 1 Axes>"
      ]
     },
     "metadata": {
      "needs_background": "light"
     },
     "output_type": "display_data"
    }
   ],
   "source": [
    "print(\"Map Distribution\")\n",
    "\n",
    "plt.bar(mapDist.keys(), mapDist.values(), color='b')\n",
    "plt.show()"
   ]
  },
  {
   "cell_type": "code",
   "execution_count": 39,
   "metadata": {},
   "outputs": [
    {
     "name": "stdout",
     "output_type": "stream",
     "text": [
      "Data Points Per Map\n"
     ]
    },
    {
     "data": {
      "image/png": "[encoded data removed]",
      "text/plain": [
       "<Figure size 432x288 with 1 Axes>"
      ]
     },
     "metadata": {
      "needs_background": "light"
     },
     "output_type": "display_data"
    }
   ],
   "source": [
    "print(\"Data Points Per Map\")\n",
    "plt.bar(datapointsPerMap.keys(), datapointsPerMap.values(), color='b')\n",
    "plt.show()"
   ]
  },
  {
   "cell_type": "code",
   "execution_count": 45,
   "metadata": {},
   "outputs": [
    {
     "name": "stdout",
     "output_type": "stream",
     "text": [
      "inferno has 22465 data points.\n",
      "overpass has 19913 data points.\n",
      "dust2 has 17351 data points.\n",
      "mirage has 24764 data points.\n",
      "vertigo has 16233 data points.\n",
      "ancient has 17641 data points.\n",
      "nuke has 20629 data points.\n"
     ]
    }
   ],
   "source": [
    "for map in datapointsPerMap.keys():\n",
    "    print(map, \"has\", datapointsPerMap[map], \"data points.\")"
   ]
  },
  {
   "cell_type": "code",
   "execution_count": 40,
   "metadata": {},
   "outputs": [
    {
     "name": "stdout",
     "output_type": "stream",
     "text": [
      "Data Points Per Match, Per Map Ratio\n"
     ]
    },
    {
     "data": {
      "image/png": "[encoded data removed]",
      "text/plain": [
       "<Figure size 432x288 with 1 Axes>"
      ]
     },
     "metadata": {
      "needs_background": "light"
     },
     "output_type": "display_data"
    }
   ],
   "source": [
    "print(\"Data Points Per Match, Per Map Ratio\")\n",
    "dPPMPMR = {}\n",
    "for key in datapointsPerMap.keys():\n",
    "    dPPMPMR[key] = datapointsPerMap[key] / mapDist[key]\n",
    "plt.bar(dPPMPMR.keys(), dPPMPMR.values(), color='b')\n",
    "plt.show()"
   ]
  }
 ],
 "metadata": {
  "kernelspec": {
   "display_name": "Python 3.10.0 64-bit",
   "language": "python",
   "name": "python3"
  },
  "language_info": {
   "codemirror_mode": {
    "name": "ipython",
    "version": 3
   },
   "file_extension": ".py",
   "mimetype": "text/x-python",
   "name": "python",
   "nbconvert_exporter": "python",
   "pygments_lexer": "ipython3",
   "version": "3.10.0"
  },
  "orig_nbformat": 4,
  "vscode": {
   "interpreter": {
    "hash": "aee8b7b246df8f9039afb4144a1f6fd8d2ca17a180786b69acc140d282b71a49"
   }
  }
 },
 "nbformat": 4,
 "nbformat_minor": 2
}
