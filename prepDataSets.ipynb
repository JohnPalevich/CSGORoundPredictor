{
 "cells": [
  {
   "cell_type": "code",
   "execution_count": 1,
   "metadata": {},
   "outputs": [],
   "source": [
    "from collections import defaultdict\n",
    "import pandas as pd\n",
    "import os"
   ]
  },
  {
   "cell_type": "code",
   "execution_count": 3,
   "metadata": {},
   "outputs": [],
   "source": [
    "# Combines map datasets into 1 csv per map as well as 1 combined csv \n",
    "combinedDf = []\n",
    "for map in os.listdir(os.getcwd()+'/data'):\n",
    "    if os.path.isdir(os.getcwd()+'/data/'+map):\n",
    "        csvs = [os.getcwd() +'/data/' + map + '/' + filename for filename in os.listdir(os.getcwd()+'/data/'+map)]\n",
    "        df = pd.concat(\n",
    "            (pd.read_csv(f) for f in csvs), \n",
    "            ignore_index= True\n",
    "        )\n",
    "        df.to_csv(os.getcwd() + '/data/' + map + '.csv', index=False)\n",
    "        combinedDf.append(df)\n",
    "df = pd.concat(combinedDf, ignore_index=True)\n",
    "df.to_csv(os.getcwd()+'/data/combined.csv', index=False)"
   ]
  },
  {
   "cell_type": "code",
   "execution_count": null,
   "metadata": {},
   "outputs": [],
   "source": [
    "# Split datasets into 60% training, 20% validation, 20% test.\n"
   ]
  }
 ],
 "metadata": {
  "kernelspec": {
   "display_name": "Python 3.10.0 64-bit",
   "language": "python",
   "name": "python3"
  },
  "language_info": {
   "codemirror_mode": {
    "name": "ipython",
    "version": 3
   },
   "file_extension": ".py",
   "mimetype": "text/x-python",
   "name": "python",
   "nbconvert_exporter": "python",
   "pygments_lexer": "ipython3",
   "version": "3.10.0"
  },
  "orig_nbformat": 4,
  "vscode": {
   "interpreter": {
    "hash": "aee8b7b246df8f9039afb4144a1f6fd8d2ca17a180786b69acc140d282b71a49"
   }
  }
 },
 "nbformat": 4,
 "nbformat_minor": 2
}
