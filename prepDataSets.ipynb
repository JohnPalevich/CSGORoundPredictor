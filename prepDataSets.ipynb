{
 "cells": [
  {
   "cell_type": "code",
   "execution_count": 1,
   "metadata": {},
   "outputs": [],
   "source": [
    "from collections import defaultdict\n",
    "import pandas as pd\n",
    "import os\n",
    "from sklearn.model_selection import train_test_split"
   ]
  },
  {
   "cell_type": "code",
   "execution_count": 3,
   "metadata": {},
   "outputs": [],
   "source": [
    "# Combines map datasets into 1 csv per map as well as 1 combined csv \n",
    "combinedDf = []\n",
    "for map in os.listdir(os.getcwd()+'/data'):\n",
    "    if os.path.isdir(os.getcwd()+'/data/'+map):\n",
    "        csvs = [os.getcwd() +'/data/' + map + '/' + filename for filename in os.listdir(os.getcwd()+'/data/'+map)]\n",
    "        df = pd.concat(\n",
    "            (pd.read_csv(f) for f in csvs), \n",
    "            ignore_index= True\n",
    "        )\n",
    "        df.to_csv(os.getcwd() + '/data/' + map + '.csv', index=False)\n",
    "        combinedDf.append(df)\n",
    "df = pd.concat(combinedDf, ignore_index=True)\n",
    "df.to_csv(os.getcwd()+'/data/combined.csv', index=False)"
   ]
  },
  {
   "cell_type": "code",
   "execution_count": 7,
   "metadata": {},
   "outputs": [
    {
     "name": "stdout",
     "output_type": "stream",
     "text": [
      "/Users/john/Developer/CSGORoundPredictor/data/vertigo.csv\n",
      "/Users/john/Developer/CSGORoundPredictor/data/inferno.csv\n",
      "/Users/john/Developer/CSGORoundPredictor/data/mirage.csv\n",
      "/Users/john/Developer/CSGORoundPredictor/data/ancient.csv\n",
      "/Users/john/Developer/CSGORoundPredictor/data/dust2.csv\n",
      "/Users/john/Developer/CSGORoundPredictor/data/combined.csv\n",
      "/Users/john/Developer/CSGORoundPredictor/data/train.csv\n",
      "/Users/john/Developer/CSGORoundPredictor/data/overpass.csv\n",
      "/Users/john/Developer/CSGORoundPredictor/data/nuke.csv\n"
     ]
    }
   ],
   "source": [
    "# Split datasets into 60% training, 20% validation, 20% test.\n",
    "train_size = 0.6\n",
    "test_size = 0.5\n",
    "for map in os.listdir(os.getcwd()+'/data'):\n",
    "    if map != '.DS_Store' and not os.path.isdir(os.getcwd()+'/data/'+map):\n",
    "        df = pd.read_csv(os.getcwd()+'/data/'+map)\n",
    "        X = df.drop(columns=['winner']).copy()\n",
    "        y = df['winner']\n",
    "        \n",
    "        #Split Data into train/remaining\n",
    "        X_train, X_rem, y_train, y_rem = train_test_split(X,y, train_size=train_size)\n",
    "        #Split remaining into test/validaiton\n",
    "        X_valid, X_test, y_valid, y_test = train_test_split(X_rem,y_rem, test_size=test_size)\n",
    "        if not os.path.exists(os.getcwd()+\"/partitionedData/\" + map[:-4]):\n",
    "            os.mkdir(os.getcwd()+\"/partitionedData/\" + map[:-4])\n",
    "        X_train.to_csv(os.getcwd()+\"/partitionedData/\" + map[:-4] + \"/Xtrain.csv\", index = False)\n",
    "        y_train.to_csv(os.getcwd()+\"/partitionedData/\" + map[:-4] + \"/ytrain.csv\", index = False)\n",
    "        X_test.to_csv(os.getcwd()+\"/partitionedData/\" + map[:-4] + \"/Xtest.csv\", index = False)\n",
    "        y_test.to_csv(os.getcwd()+\"/partitionedData/\" + map[:-4] + \"/ytest.csv\", index = False)\n",
    "        X_valid.to_csv(os.getcwd()+\"/partitionedData/\" + map[:-4] + \"/Xvalid.csv\", index = False)\n",
    "        y_valid.to_csv(os.getcwd()+\"/partitionedData/\" + map[:-4] + \"/yvalid.csv\", index = False)"
   ]
  }
 ],
 "metadata": {
  "kernelspec": {
   "display_name": "Python 3.10.0 64-bit",
   "language": "python",
   "name": "python3"
  },
  "language_info": {
   "codemirror_mode": {
    "name": "ipython",
    "version": 3
   },
   "file_extension": ".py",
   "mimetype": "text/x-python",
   "name": "python",
   "nbconvert_exporter": "python",
   "pygments_lexer": "ipython3",
   "version": "3.10.0"
  },
  "orig_nbformat": 4,
  "vscode": {
   "interpreter": {
    "hash": "aee8b7b246df8f9039afb4144a1f6fd8d2ca17a180786b69acc140d282b71a49"
   }
  }
 },
 "nbformat": 4,
 "nbformat_minor": 2
}
